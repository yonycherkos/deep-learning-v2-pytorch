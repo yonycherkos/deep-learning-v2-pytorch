{
 "cells": [
  {
   "cell_type": "markdown",
   "metadata": {},
   "source": [
    "# Classifying Fashion-MNIST\n",
    "\n",
    "Now it's your turn to build and train a neural network. You'll be using the [Fashion-MNIST dataset](https://github.com/zalandoresearch/fashion-mnist), a drop-in replacement for the MNIST dataset. MNIST is actually quite trivial with neural networks where you can easily achieve better than 97% accuracy. Fashion-MNIST is a set of 28x28 greyscale images of clothes. It's more complex than MNIST, so it's a better representation of the actual performance of your network, and a better representation of datasets you'll use in the real world.\n",
    "\n",
    "<img src='assets/fashion-mnist-sprite.png' width=500px>\n",
    "\n",
    "In this notebook, you'll build your own neural network. For the most part, you could just copy and paste the code from Part 3, but you wouldn't be learning. It's important for you to write the code yourself and get it to work. Feel free to consult the previous notebooks though as you work through this.\n",
    "\n",
    "First off, let's load the dataset through torchvision."
   ]
  },
  {
   "cell_type": "code",
   "execution_count": 1,
   "metadata": {},
   "outputs": [
    {
     "name": "stderr",
     "output_type": "stream",
     "text": [
      "\r",
      "0it [00:00, ?it/s]"
     ]
    },
    {
     "name": "stdout",
     "output_type": "stream",
     "text": [
      "Downloading http://fashion-mnist.s3-website.eu-central-1.amazonaws.com/train-images-idx3-ubyte.gz to /home/yony/.pytorch/F_MNIST_data/FashionMNIST/raw/train-images-idx3-ubyte.gz\n"
     ]
    },
    {
     "name": "stderr",
     "output_type": "stream",
     "text": [
      "100%|█████████▉| 26419200/26421880 [03:01<00:00, 268896.17it/s]"
     ]
    },
    {
     "name": "stdout",
     "output_type": "stream",
     "text": [
      "Extracting /home/yony/.pytorch/F_MNIST_data/FashionMNIST/raw/train-images-idx3-ubyte.gz to /home/yony/.pytorch/F_MNIST_data/FashionMNIST/raw\n"
     ]
    },
    {
     "name": "stderr",
     "output_type": "stream",
     "text": [
      "\n",
      "0it [00:00, ?it/s]\u001b[A"
     ]
    },
    {
     "name": "stdout",
     "output_type": "stream",
     "text": [
      "Downloading http://fashion-mnist.s3-website.eu-central-1.amazonaws.com/train-labels-idx1-ubyte.gz to /home/yony/.pytorch/F_MNIST_data/FashionMNIST/raw/train-labels-idx1-ubyte.gz\n"
     ]
    },
    {
     "name": "stderr",
     "output_type": "stream",
     "text": [
      "\n",
      "  0%|          | 0/29515 [00:00<?, ?it/s]\u001b[A\n",
      "32768it [00:00, 51255.86it/s]                            \u001b[A\n",
      "\n",
      "0it [00:00, ?it/s]\u001b[A"
     ]
    },
    {
     "name": "stdout",
     "output_type": "stream",
     "text": [
      "Extracting /home/yony/.pytorch/F_MNIST_data/FashionMNIST/raw/train-labels-idx1-ubyte.gz to /home/yony/.pytorch/F_MNIST_data/FashionMNIST/raw\n",
      "Downloading http://fashion-mnist.s3-website.eu-central-1.amazonaws.com/t10k-images-idx3-ubyte.gz to /home/yony/.pytorch/F_MNIST_data/FashionMNIST/raw/t10k-images-idx3-ubyte.gz\n"
     ]
    },
    {
     "name": "stderr",
     "output_type": "stream",
     "text": [
      "\n",
      "  0%|          | 0/4422102 [00:00<?, ?it/s]\u001b[A\n",
      "  0%|          | 16384/4422102 [00:00<00:39, 111587.84it/s]\u001b[A\n",
      "  1%|          | 24576/4422102 [00:00<00:50, 87383.01it/s] \u001b[A\n",
      "  1%|▏         | 65536/4422102 [00:00<00:38, 112771.02it/s]\u001b[A\n",
      "  2%|▏         | 90112/4422102 [00:00<00:41, 103528.05it/s]\u001b[A\n",
      "  3%|▎         | 131072/4422102 [00:01<00:34, 124615.50it/s]\u001b[A\n",
      "  3%|▎         | 147456/4422102 [00:01<00:35, 121523.23it/s]\u001b[A\n",
      "  4%|▎         | 163840/4422102 [00:01<00:33, 125545.89it/s]\u001b[A\n",
      "  4%|▍         | 188416/4422102 [00:01<00:34, 123911.31it/s]\u001b[A\n",
      "  5%|▍         | 212992/4422102 [00:01<00:34, 123116.74it/s]\u001b[A\n",
      "  5%|▌         | 229376/4422102 [00:02<00:36, 114373.91it/s]\u001b[A\n",
      "  6%|▌         | 253952/4422102 [00:02<00:33, 124653.04it/s]\u001b[A\n",
      "  6%|▌         | 270336/4422102 [00:02<00:34, 121812.40it/s]\u001b[A\n",
      "  6%|▋         | 286720/4422102 [00:02<00:33, 123906.01it/s]\u001b[A\n",
      "  7%|▋         | 303104/4422102 [00:02<00:31, 132675.86it/s]\u001b[A\n",
      "  7%|▋         | 327680/4422102 [00:02<00:30, 134233.07it/s]\u001b[A\n",
      "  8%|▊         | 344064/4422102 [00:02<00:29, 136691.11it/s]\u001b[A\n",
      "  8%|▊         | 368640/4422102 [00:03<00:29, 135291.74it/s]\u001b[A\n",
      "  9%|▉         | 393216/4422102 [00:03<00:27, 145703.35it/s]\u001b[A\n",
      "  9%|▉         | 409600/4422102 [00:03<00:31, 127513.71it/s]\u001b[A\n",
      " 10%|▉         | 434176/4422102 [00:03<00:29, 135752.36it/s]\u001b[A\n",
      " 10%|█         | 450560/4422102 [00:03<00:30, 131384.54it/s]\u001b[A\n",
      " 11%|█         | 475136/4422102 [00:03<00:27, 144227.82it/s]\u001b[A\n",
      " 11%|█         | 491520/4422102 [00:03<00:29, 133452.32it/s]\u001b[A\n",
      " 11%|█▏        | 507904/4422102 [00:04<00:38, 102941.52it/s]\u001b[A\n",
      " 12%|█▏        | 524288/4422102 [00:04<00:54, 71305.21it/s] \u001b[A\n",
      " 12%|█▏        | 540672/4422102 [00:04<01:08, 56594.75it/s]\u001b[A\n",
      " 12%|█▏        | 548864/4422102 [00:05<01:17, 50278.55it/s]\u001b[A\n",
      " 13%|█▎        | 557056/4422102 [00:05<01:13, 52915.49it/s]\u001b[A\n",
      " 13%|█▎        | 565248/4422102 [00:05<01:08, 56148.21it/s]\u001b[A\n",
      " 13%|█▎        | 573440/4422102 [00:05<01:06, 57635.43it/s]\u001b[A\n",
      " 13%|█▎        | 581632/4422102 [00:05<01:07, 56822.45it/s]\u001b[A\n",
      " 13%|█▎        | 589824/4422102 [00:05<01:09, 54791.96it/s]\u001b[A\n",
      " 14%|█▎        | 598016/4422102 [00:05<01:07, 56308.66it/s]\u001b[A\n",
      " 14%|█▍        | 614400/4422102 [00:06<00:58, 64878.45it/s]\u001b[A\n",
      " 14%|█▍        | 622592/4422102 [00:06<00:58, 65015.63it/s]\u001b[A\n",
      " 14%|█▍        | 638976/4422102 [00:06<00:52, 72127.44it/s]\u001b[A\n",
      " 15%|█▍        | 647168/4422102 [00:06<00:52, 71649.13it/s]\u001b[A\n",
      " 15%|█▌        | 663552/4422102 [00:06<00:45, 81715.04it/s]\u001b[A\n",
      " 15%|█▌        | 679936/4422102 [00:06<00:42, 88967.09it/s]\u001b[A\n",
      " 16%|█▌        | 696320/4422102 [00:06<00:38, 96135.99it/s]\u001b[A\n",
      " 16%|█▌        | 712704/4422102 [00:07<00:36, 102652.24it/s]\u001b[A\n",
      " 16%|█▋        | 729088/4422102 [00:07<00:44, 82721.09it/s] \u001b[A\n",
      " 17%|█▋        | 745472/4422102 [00:07<01:02, 59077.58it/s]\u001b[A\n",
      " 17%|█▋        | 770048/4422102 [00:08<00:50, 72791.38it/s]\u001b[A\n",
      " 18%|█▊        | 786432/4422102 [00:08<00:44, 82477.55it/s]\u001b[A\n",
      " 18%|█▊        | 802816/4422102 [00:08<00:42, 85436.72it/s]\u001b[A\n",
      " 19%|█▊        | 819200/4422102 [00:08<00:39, 91071.51it/s]\u001b[A\n",
      " 19%|█▉        | 835584/4422102 [00:08<00:46, 77108.76it/s]\u001b[A\n",
      " 19%|█▉        | 851968/4422102 [00:08<00:43, 82392.41it/s]\u001b[A\n",
      " 20%|█▉        | 868352/4422102 [00:09<00:50, 70980.21it/s]\u001b[A\n",
      " 20%|██        | 884736/4422102 [00:09<00:45, 77049.41it/s]\u001b[A\n",
      " 20%|██        | 901120/4422102 [00:09<00:49, 70744.29it/s]\u001b[A\n",
      " 21%|██        | 909312/4422102 [00:09<00:53, 65364.81it/s]\u001b[A\n",
      " 21%|██        | 917504/4422102 [00:09<00:54, 64581.52it/s]\u001b[A\n",
      " 21%|██        | 933888/4422102 [00:10<00:50, 69142.01it/s]\u001b[A\n",
      " 21%|██▏       | 950272/4422102 [00:10<00:48, 71541.29it/s]\u001b[A\n",
      " 22%|██▏       | 958464/4422102 [00:10<00:48, 70880.03it/s]\u001b[A\n",
      " 22%|██▏       | 974848/4422102 [00:10<00:44, 76956.54it/s]\u001b[A\n",
      " 22%|██▏       | 991232/4422102 [00:10<00:50, 68495.56it/s]\u001b[A\n",
      " 23%|██▎       | 1015808/4422102 [00:11<00:41, 82822.95it/s]\u001b[A\n",
      " 23%|██▎       | 1032192/4422102 [00:11<00:46, 72696.30it/s]\u001b[A\n",
      " 24%|██▎       | 1048576/4422102 [00:11<00:40, 82795.52it/s]\u001b[A\n",
      " 24%|██▍       | 1064960/4422102 [00:11<00:41, 80294.72it/s]\u001b[A\n",
      " 24%|██▍       | 1081344/4422102 [00:12<00:54, 61342.86it/s]\u001b[A\n",
      " 25%|██▍       | 1089536/4422102 [00:12<01:07, 49099.40it/s]\u001b[A\n",
      " 25%|██▍       | 1097728/4422102 [00:12<01:30, 36826.54it/s]\u001b[A\n",
      " 25%|██▌       | 1105920/4422102 [00:12<01:19, 41529.70it/s]\u001b[A\n",
      " 25%|██▌       | 1122304/4422102 [00:13<01:04, 50776.04it/s]\u001b[A\n",
      " 26%|██▌       | 1130496/4422102 [00:13<01:00, 54236.91it/s]\u001b[A\n",
      " 26%|██▌       | 1146880/4422102 [00:13<00:51, 64119.18it/s]\u001b[A\n",
      " 26%|██▌       | 1155072/4422102 [00:13<00:51, 64027.74it/s]\u001b[A\n",
      " 26%|██▋       | 1171456/4422102 [00:13<00:55, 58953.11it/s]\u001b[A\n",
      " 27%|██▋       | 1187840/4422102 [00:13<00:47, 67554.34it/s]\u001b[A\n",
      " 27%|██▋       | 1196032/4422102 [00:14<00:52, 61138.97it/s]\u001b[A\n",
      " 27%|██▋       | 1212416/4422102 [00:14<00:45, 70193.91it/s]\u001b[A\n",
      " 28%|██▊       | 1220608/4422102 [00:14<00:48, 66616.81it/s]\u001b[A\n",
      " 28%|██▊       | 1228800/4422102 [00:14<00:53, 59465.29it/s]\u001b[A\n",
      " 28%|██▊       | 1245184/4422102 [00:14<00:45, 69904.03it/s]\u001b[A\n",
      " 29%|██▊       | 1261568/4422102 [00:14<00:43, 71946.05it/s]\u001b[A\n",
      " 29%|██▊       | 1269760/4422102 [00:15<00:43, 72193.55it/s]\u001b[A\n",
      " 29%|██▉       | 1277952/4422102 [00:15<00:42, 74554.88it/s]\u001b[A\n",
      " 29%|██▉       | 1294336/4422102 [00:15<00:49, 63360.26it/s]\u001b[A\n",
      " 30%|██▉       | 1318912/4422102 [00:15<00:41, 74709.84it/s]\u001b[A\n",
      " 30%|███       | 1335296/4422102 [00:15<00:41, 73870.09it/s]\u001b[A\n",
      " 31%|███       | 1351680/4422102 [00:16<00:39, 76897.77it/s]\u001b[A\n",
      " 31%|███       | 1368064/4422102 [00:16<00:36, 82939.49it/s]\u001b[A\n",
      " 31%|███▏      | 1384448/4422102 [00:16<00:33, 89805.39it/s]\u001b[A\n",
      " 32%|███▏      | 1400832/4422102 [00:16<00:31, 96002.62it/s]\u001b[A\n",
      " 32%|███▏      | 1417216/4422102 [00:16<00:30, 99067.29it/s]\u001b[A\n",
      " 32%|███▏      | 1433600/4422102 [00:16<00:32, 92456.01it/s]\u001b[A\n",
      "26427392it [03:20, 268896.17it/s]                              \n",
      " 33%|███▎      | 1466368/4422102 [00:17<00:30, 96233.99it/s]\u001b[A\n",
      " 34%|███▎      | 1482752/4422102 [00:17<00:29, 98706.63it/s]\u001b[A\n",
      " 34%|███▍      | 1499136/4422102 [00:17<00:28, 102718.28it/s]\u001b[A\n",
      " 34%|███▍      | 1515520/4422102 [00:17<00:26, 108110.61it/s]\u001b[A\n",
      " 35%|███▍      | 1540096/4422102 [00:17<00:24, 119674.28it/s]\u001b[A\n",
      " 35%|███▌      | 1556480/4422102 [00:17<00:24, 118390.22it/s]\u001b[A\n",
      " 36%|███▌      | 1581056/4422102 [00:18<00:22, 125093.56it/s]\u001b[A\n",
      " 36%|███▌      | 1597440/4422102 [00:18<00:22, 123143.57it/s]\u001b[A\n",
      " 36%|███▋      | 1613824/4422102 [00:18<00:21, 130256.53it/s]\u001b[A\n",
      " 37%|███▋      | 1638400/4422102 [00:18<00:22, 122153.32it/s]\u001b[A\n",
      " 38%|███▊      | 1662976/4422102 [00:18<00:21, 126670.73it/s]\u001b[A\n",
      " 38%|███▊      | 1687552/4422102 [00:19<00:25, 106572.70it/s]\u001b[A\n",
      " 39%|███▉      | 1720320/4422102 [00:19<00:21, 124515.12it/s]\u001b[A\n",
      " 39%|███▉      | 1744896/4422102 [00:19<00:22, 119053.26it/s]\u001b[A\n",
      " 40%|███▉      | 1761280/4422102 [00:19<00:23, 112291.35it/s]\u001b[A\n",
      " 40%|████      | 1785856/4422102 [00:19<00:21, 124611.96it/s]\u001b[A\n",
      " 41%|████      | 1802240/4422102 [00:19<00:20, 124914.47it/s]\u001b[A\n",
      " 41%|████▏     | 1826816/4422102 [00:20<00:20, 128838.53it/s]\u001b[A\n",
      " 42%|████▏     | 1851392/4422102 [00:20<00:19, 129971.19it/s]\u001b[A\n",
      " 42%|████▏     | 1875968/4422102 [00:20<00:19, 127840.68it/s]\u001b[A\n",
      " 43%|████▎     | 1892352/4422102 [00:20<00:21, 117971.15it/s]\u001b[A\n",
      " 43%|████▎     | 1908736/4422102 [00:20<00:20, 120598.95it/s]\u001b[A\n",
      " 44%|████▎     | 1933312/4422102 [00:20<00:18, 132230.82it/s]\u001b[A\n",
      " 44%|████▍     | 1949696/4422102 [00:21<00:20, 123220.64it/s]\u001b[A\n",
      " 44%|████▍     | 1966080/4422102 [00:21<00:20, 120550.89it/s]\u001b[A\n",
      " 45%|████▍     | 1982464/4422102 [00:21<00:21, 111651.80it/s]\u001b[A\n",
      " 45%|████▌     | 1998848/4422102 [00:21<00:21, 111611.23it/s]\u001b[A\n",
      " 46%|████▌     | 2023424/4422102 [00:21<00:19, 120630.88it/s]\u001b[A\n",
      " 46%|████▋     | 2048000/4422102 [00:21<00:17, 135830.46it/s]\u001b[A\n",
      " 47%|████▋     | 2072576/4422102 [00:22<00:16, 138221.37it/s]\u001b[A\n",
      " 47%|████▋     | 2097152/4422102 [00:22<00:15, 145845.18it/s]\u001b[A\n",
      " 48%|████▊     | 2121728/4422102 [00:22<00:14, 155358.68it/s]\u001b[A\n",
      " 49%|████▊     | 2146304/4422102 [00:22<00:14, 160846.52it/s]\u001b[A\n",
      " 49%|████▉     | 2170880/4422102 [00:22<00:13, 167387.36it/s]\u001b[A\n",
      " 50%|████▉     | 2195456/4422102 [00:22<00:17, 124364.93it/s]\u001b[A\n",
      " 51%|█████     | 2236416/4422102 [00:23<00:14, 149109.41it/s]\u001b[A\n"
     ]
    },
    {
     "name": "stderr",
     "output_type": "stream",
     "text": [
      " 51%|█████     | 2260992/4422102 [00:23<00:14, 150647.99it/s]\u001b[A\n",
      " 52%|█████▏    | 2285568/4422102 [00:23<00:14, 145464.37it/s]\u001b[A\n",
      " 52%|█████▏    | 2301952/4422102 [00:23<00:14, 149321.01it/s]\u001b[A\n",
      " 52%|█████▏    | 2318336/4422102 [00:23<00:14, 143639.55it/s]\u001b[A\n",
      " 53%|█████▎    | 2334720/4422102 [00:23<00:15, 131101.88it/s]\u001b[A\n",
      " 53%|█████▎    | 2359296/4422102 [00:23<00:16, 125967.69it/s]\u001b[A\n",
      " 54%|█████▍    | 2383872/4422102 [00:24<00:14, 138700.36it/s]\u001b[A\n",
      " 54%|█████▍    | 2408448/4422102 [00:24<00:13, 148565.52it/s]\u001b[A\n",
      " 55%|█████▌    | 2433024/4422102 [00:24<00:12, 157771.92it/s]\u001b[A\n",
      " 56%|█████▌    | 2457600/4422102 [00:24<00:11, 163799.50it/s]\u001b[A\n",
      " 56%|█████▌    | 2482176/4422102 [00:24<00:12, 150559.27it/s]\u001b[A\n",
      " 57%|█████▋    | 2506752/4422102 [00:24<00:12, 157461.20it/s]\u001b[A\n",
      " 57%|█████▋    | 2531328/4422102 [00:25<00:12, 153597.90it/s]\u001b[A\n",
      " 58%|█████▊    | 2547712/4422102 [00:25<00:24, 76651.62it/s] \u001b[A\n",
      " 59%|█████▊    | 2588672/4422102 [00:25<00:18, 99613.27it/s]\u001b[A\n",
      " 59%|█████▉    | 2613248/4422102 [00:25<00:18, 98714.28it/s]\u001b[A\n",
      " 59%|█████▉    | 2629632/4422102 [00:26<00:17, 103151.04it/s]\u001b[A\n",
      " 60%|█████▉    | 2646016/4422102 [00:26<00:16, 110156.58it/s]\u001b[A\n",
      " 60%|██████    | 2662400/4422102 [00:26<00:15, 112786.86it/s]\u001b[A\n",
      " 61%|██████    | 2678784/4422102 [00:26<00:18, 93927.77it/s] \u001b[A\n",
      " 61%|██████    | 2695168/4422102 [00:26<00:17, 98666.99it/s]\u001b[A\n",
      " 61%|██████▏   | 2711552/4422102 [00:26<00:17, 99409.69it/s]\u001b[A\n",
      " 62%|██████▏   | 2727936/4422102 [00:26<00:17, 98657.23it/s]\u001b[A\n",
      " 62%|██████▏   | 2744320/4422102 [00:27<00:17, 95372.58it/s]\u001b[A\n",
      " 62%|██████▏   | 2760704/4422102 [00:27<00:16, 99170.46it/s]\u001b[A\n",
      " 63%|██████▎   | 2777088/4422102 [00:27<00:15, 104104.61it/s]\u001b[A\n",
      " 63%|██████▎   | 2793472/4422102 [00:27<00:15, 108271.76it/s]\u001b[A\n",
      " 64%|██████▎   | 2818048/4422102 [00:27<00:12, 124658.10it/s]\u001b[A\n",
      " 64%|██████▍   | 2834432/4422102 [00:27<00:12, 122423.00it/s]\u001b[A\n",
      " 65%|██████▍   | 2859008/4422102 [00:28<00:11, 135587.72it/s]\u001b[A\n",
      " 65%|██████▌   | 2883584/4422102 [00:28<00:10, 148416.14it/s]\u001b[A\n",
      " 66%|██████▌   | 2899968/4422102 [00:28<00:11, 133699.84it/s]\u001b[A\n",
      " 66%|██████▌   | 2924544/4422102 [00:28<00:10, 138864.58it/s]\u001b[A\n",
      " 67%|██████▋   | 2949120/4422102 [00:28<00:09, 149872.36it/s]\u001b[A\n",
      " 67%|██████▋   | 2973696/4422102 [00:28<00:09, 154179.93it/s]\u001b[A\n",
      " 68%|██████▊   | 2998272/4422102 [00:28<00:08, 161327.59it/s]\u001b[A\n",
      " 68%|██████▊   | 3022848/4422102 [00:29<00:10, 139144.92it/s]\u001b[A\n",
      " 69%|██████▉   | 3055616/4422102 [00:29<00:08, 158271.73it/s]\u001b[A\n",
      " 70%|██████▉   | 3080192/4422102 [00:29<00:08, 163348.09it/s]\u001b[A\n",
      " 70%|███████   | 3112960/4422102 [00:29<00:07, 169690.84it/s]\u001b[A\n",
      " 71%|███████   | 3137536/4422102 [00:29<00:07, 165206.98it/s]\u001b[A\n",
      " 72%|███████▏  | 3170304/4422102 [00:29<00:06, 179900.60it/s]\u001b[A\n",
      " 72%|███████▏  | 3203072/4422102 [00:30<00:06, 188223.95it/s]\u001b[A\n",
      " 73%|███████▎  | 3235840/4422102 [00:30<00:05, 202395.65it/s]\u001b[A\n",
      " 74%|███████▎  | 3260416/4422102 [00:30<00:08, 138084.89it/s]\u001b[A\n",
      " 74%|███████▍  | 3293184/4422102 [00:30<00:06, 164730.24it/s]\u001b[A\n",
      " 75%|███████▌  | 3317760/4422102 [00:30<00:07, 148181.78it/s]\u001b[A\n",
      " 76%|███████▌  | 3342336/4422102 [00:30<00:07, 151492.61it/s]\u001b[A\n",
      " 76%|███████▌  | 3366912/4422102 [00:31<00:06, 165661.50it/s]\u001b[A\n",
      " 77%|███████▋  | 3391488/4422102 [00:31<00:06, 167304.13it/s]\u001b[A\n",
      " 77%|███████▋  | 3416064/4422102 [00:31<00:06, 162932.06it/s]\u001b[A\n",
      " 78%|███████▊  | 3440640/4422102 [00:31<00:05, 173977.77it/s]\u001b[A\n",
      " 78%|███████▊  | 3465216/4422102 [00:31<00:05, 175707.40it/s]\u001b[A\n",
      " 79%|███████▉  | 3497984/4422102 [00:31<00:05, 181408.63it/s]\u001b[A\n",
      " 80%|███████▉  | 3522560/4422102 [00:32<00:06, 133061.84it/s]\u001b[A\n",
      " 80%|████████  | 3538944/4422102 [00:32<00:06, 129726.29it/s]\u001b[A\n",
      " 81%|████████  | 3588096/4422102 [00:32<00:05, 145803.10it/s]\u001b[A\n",
      " 82%|████████▏ | 3612672/4422102 [00:32<00:05, 144690.41it/s]\u001b[A\n",
      " 82%|████████▏ | 3637248/4422102 [00:32<00:05, 139978.20it/s]\u001b[A\n",
      " 83%|████████▎ | 3661824/4422102 [00:32<00:04, 155808.00it/s]\u001b[A\n",
      " 84%|████████▎ | 3694592/4422102 [00:33<00:04, 166033.11it/s]\u001b[A\n",
      " 84%|████████▍ | 3719168/4422102 [00:33<00:03, 179994.22it/s]\u001b[A\n",
      " 85%|████████▍ | 3743744/4422102 [00:33<00:05, 125447.30it/s]\u001b[A\n",
      " 86%|████████▌ | 3792896/4422102 [00:33<00:04, 151729.27it/s]\u001b[A\n",
      " 86%|████████▋ | 3817472/4422102 [00:33<00:03, 157321.65it/s]\u001b[A\n",
      " 87%|████████▋ | 3842048/4422102 [00:33<00:03, 158024.22it/s]\u001b[A\n",
      " 87%|████████▋ | 3866624/4422102 [00:34<00:03, 158244.75it/s]\u001b[A\n",
      " 88%|████████▊ | 3891200/4422102 [00:34<00:03, 148302.88it/s]\u001b[A\n",
      " 89%|████████▊ | 3915776/4422102 [00:34<00:03, 151759.01it/s]\u001b[A\n",
      " 89%|████████▉ | 3940352/4422102 [00:34<00:03, 147497.19it/s]\u001b[A\n",
      " 90%|████████▉ | 3964928/4422102 [00:34<00:03, 145611.13it/s]\u001b[A\n",
      " 90%|█████████ | 3989504/4422102 [00:35<00:03, 136702.50it/s]\u001b[A\n",
      " 91%|█████████ | 4022272/4422102 [00:35<00:02, 137314.12it/s]\u001b[A\n",
      " 92%|█████████▏| 4046848/4422102 [00:36<00:06, 58926.30it/s] \u001b[A\n",
      " 93%|█████████▎| 4112384/4422102 [00:36<00:04, 77138.71it/s]\u001b[A\n",
      " 94%|█████████▎| 4136960/4422102 [00:36<00:03, 90225.01it/s]\u001b[A\n",
      " 94%|█████████▍| 4161536/4422102 [00:36<00:02, 99193.93it/s]\u001b[A\n",
      " 95%|█████████▍| 4186112/4422102 [00:37<00:02, 107217.02it/s]\u001b[A\n",
      " 95%|█████████▌| 4210688/4422102 [00:37<00:01, 114868.85it/s]\u001b[A\n",
      " 96%|█████████▌| 4235264/4422102 [00:37<00:01, 134833.58it/s]\u001b[A\n",
      " 96%|█████████▋| 4259840/4422102 [00:37<00:01, 144316.68it/s]\u001b[A\n",
      " 97%|█████████▋| 4284416/4422102 [00:38<00:01, 69258.88it/s] \u001b[A\n",
      " 98%|█████████▊| 4341760/4422102 [00:38<00:00, 90844.09it/s]\u001b[A\n",
      " 99%|█████████▊| 4366336/4422102 [00:38<00:00, 93292.98it/s]\u001b[A\n",
      " 99%|█████████▉| 4382720/4422102 [00:38<00:00, 90725.39it/s]\u001b[A\n",
      "100%|█████████▉| 4407296/4422102 [00:39<00:00, 105311.27it/s]\u001b[A\n",
      "\n",
      "0it [00:00, ?it/s]\u001b[A\u001b[A"
     ]
    },
    {
     "name": "stdout",
     "output_type": "stream",
     "text": [
      "Extracting /home/yony/.pytorch/F_MNIST_data/FashionMNIST/raw/t10k-images-idx3-ubyte.gz to /home/yony/.pytorch/F_MNIST_data/FashionMNIST/raw\n",
      "Downloading http://fashion-mnist.s3-website.eu-central-1.amazonaws.com/t10k-labels-idx1-ubyte.gz to /home/yony/.pytorch/F_MNIST_data/FashionMNIST/raw/t10k-labels-idx1-ubyte.gz\n"
     ]
    },
    {
     "name": "stderr",
     "output_type": "stream",
     "text": [
      "\n",
      "\n",
      "8192it [00:00, 18923.35it/s]            \u001b[A\u001b[A"
     ]
    },
    {
     "name": "stdout",
     "output_type": "stream",
     "text": [
      "Extracting /home/yony/.pytorch/F_MNIST_data/FashionMNIST/raw/t10k-labels-idx1-ubyte.gz to /home/yony/.pytorch/F_MNIST_data/FashionMNIST/raw\n",
      "Processing...\n",
      "Done!\n"
     ]
    },
    {
     "name": "stderr",
     "output_type": "stream",
     "text": [
      "\n"
     ]
    }
   ],
   "source": [
    "import torch\n",
    "from torchvision import datasets, transforms\n",
    "import helper\n",
    "\n",
    "# Define a transform to normalize the data\n",
    "transform = transforms.Compose([transforms.ToTensor(),\n",
    "                                transforms.Normalize((0.5,), (0.5,))])\n",
    "# Download and load the training data\n",
    "trainset = datasets.FashionMNIST('~/.pytorch/F_MNIST_data/', download=True, train=True, transform=transform)\n",
    "trainloader = torch.utils.data.DataLoader(trainset, batch_size=64, shuffle=True)\n",
    "\n",
    "# Download and load the test data\n",
    "testset = datasets.FashionMNIST('~/.pytorch/F_MNIST_data/', download=True, train=False, transform=transform)\n",
    "testloader = torch.utils.data.DataLoader(testset, batch_size=64, shuffle=True)"
   ]
  },
  {
   "cell_type": "markdown",
   "metadata": {},
   "source": [
    "Here we can see one of the images."
   ]
  },
  {
   "cell_type": "code",
   "execution_count": null,
   "metadata": {},
   "outputs": [],
   "source": [
    "image, label = next(iter(trainloader))\n",
    "helper.imshow(image[0,:]);"
   ]
  },
  {
   "cell_type": "markdown",
   "metadata": {},
   "source": [
    "## Building the network\n",
    "\n",
    "Here you should define your network. As with MNIST, each image is 28x28 which is a total of 784 pixels, and there are 10 classes. You should include at least one hidden layer. We suggest you use ReLU activations for the layers and to return the logits or log-softmax from the forward pass. It's up to you how many layers you add and the size of those layers."
   ]
  },
  {
   "cell_type": "code",
   "execution_count": 13,
   "metadata": {},
   "outputs": [],
   "source": [
    "# TODO: Define your network architecture here\n",
    "from torch import nn\n",
    "import torch.nn.functional as F\n",
    "\n",
    "\n",
    "class Network(nn.Module):\n",
    "    def __init__(self):\n",
    "        super().__init__()\n",
    "        self.fc1 = nn.Linear(784, 256)\n",
    "        self.fc2 = nn.Linear(256, 128)\n",
    "        self.fc3 = nn.Linear(128, 64)\n",
    "        self.out = nn.Linear(64, 10)\n",
    "\n",
    "    def forward(self, x):\n",
    "        x = x.view(x.shape[0], -1)\n",
    "\n",
    "        x = F.relu(self.fc1(x))\n",
    "        x = F.relu(self.fc2(x))\n",
    "        x = F.relu(self.fc3(x))\n",
    "        x = F.log_softmax(self.out(x), dim=1)\n",
    "\n",
    "        return x"
   ]
  },
  {
   "cell_type": "markdown",
   "metadata": {},
   "source": [
    "# Train the network\n",
    "\n",
    "Now you should create your network and train it. First you'll want to define [the criterion](http://pytorch.org/docs/master/nn.html#loss-functions) ( something like `nn.CrossEntropyLoss`) and [the optimizer](http://pytorch.org/docs/master/optim.html) (typically `optim.SGD` or `optim.Adam`).\n",
    "\n",
    "Then write the training code. Remember the training pass is a fairly straightforward process:\n",
    "\n",
    "* Make a forward pass through the network to get the logits \n",
    "* Use the logits to calculate the loss\n",
    "* Perform a backward pass through the network with `loss.backward()` to calculate the gradients\n",
    "* Take a step with the optimizer to update the weights\n",
    "\n",
    "By adjusting the hyperparameters (hidden units, learning rate, etc), you should be able to get the training loss below 0.4."
   ]
  },
  {
   "cell_type": "code",
   "execution_count": 14,
   "metadata": {},
   "outputs": [],
   "source": [
    "# TODO: Create the network, define the criterion and optimizer\n",
    "from torch import optim\n",
    "\n",
    "model = Network()\n",
    "criterion = nn.CrossEntropyLoss()\n",
    "optimizer = optim.Adam(model.parameters(), lr=0.003)"
   ]
  },
  {
   "cell_type": "code",
   "execution_count": 17,
   "metadata": {},
   "outputs": [
    {
     "name": "stdout",
     "output_type": "stream",
     "text": [
      "training loss: 481.1143866032362\n",
      "training loss: 366.28217351436615\n",
      "training loss: 333.78025329113007\n",
      "training loss: 311.4708919003606\n",
      "training loss: 293.37386625260115\n"
     ]
    }
   ],
   "source": [
    "# TODO: Train the network here\n",
    "epochs = 5\n",
    "for epoch in range(epochs):\n",
    "    running_loss = 0\n",
    "    for images, labels in trainloader:\n",
    "        logits = model(images)\n",
    "        optimizer.zero_grad()\n",
    "        \n",
    "        loss = criterion(logits, labels)\n",
    "        loss.backward()\n",
    "        optimizer.step()\n",
    "        \n",
    "        running_loss += loss.item()\n",
    "    else:\n",
    "        print(f'training loss: {running_loss}')"
   ]
  },
  {
   "cell_type": "code",
   "execution_count": 24,
   "metadata": {},
   "outputs": [
    {
     "data": {
      "image/png": "[encoded data removed]",
      "text/plain": [
       "<Figure size 432x648 with 2 Axes>"
      ]
     },
     "metadata": {
      "image/png": {
       "height": 216,
       "width": 424
      },
      "needs_background": "light"
     },
     "output_type": "display_data"
    }
   ],
   "source": [
    "%matplotlib inline\n",
    "%config InlineBackend.figure_format = 'retina'\n",
    "\n",
    "import helper\n",
    "\n",
    "# Test out your network!\n",
    "\n",
    "dataiter = iter(testloader)\n",
    "images, labels = dataiter.next()\n",
    "img = images[0]\n",
    "# Convert 2D image to 1D vector\n",
    "img = img.resize_(1, 784)\n",
    "\n",
    "# TODO: Calculate the class probabilities (softmax) for img\n",
    "ps = torch.exp(model(img))\n",
    "\n",
    "# Plot the image and probabilities\n",
    "helper.view_classify(img.resize_(1, 28, 28), ps, version='Fashion')"
   ]
  },
  {
   "cell_type": "code",
   "execution_count": null,
   "metadata": {},
   "outputs": [],
   "source": []
  }
 ],
 "metadata": {
  "kernelspec": {
   "display_name": "Python 3",
   "language": "python",
   "name": "python3"
  },
  "language_info": {
   "codemirror_mode": {
    "name": "ipython",
    "version": 3
   },
   "file_extension": ".py",
   "mimetype": "text/x-python",
   "name": "python",
   "nbconvert_exporter": "python",
   "pygments_lexer": "ipython3",
   "version": "3.7.4"
  },
  "toc": {
   "base_numbering": 1,
   "nav_menu": {},
   "number_sections": true,
   "sideBar": true,
   "skip_h1_title": false,
   "title_cell": "Table of Contents",
   "title_sidebar": "Contents",
   "toc_cell": false,
   "toc_position": {},
   "toc_section_display": true,
   "toc_window_display": false
  }
 },
 "nbformat": 4,
 "nbformat_minor": 2
}
